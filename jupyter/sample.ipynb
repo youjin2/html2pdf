{
 "cells": [
  {
   "cell_type": "code",
   "execution_count": 1,
   "metadata": {},
   "outputs": [],
   "source": [
    "import time\n",
    "import subprocess\n",
    "import os\n",
    "from urllib.request import urlopen\n",
    "\n",
    "import pandas as pd\n",
    "from bs4 import BeautifulSoup\n",
    "from pdfrw import PdfReader, PdfWriter"
   ]
  },
  {
   "cell_type": "markdown",
   "metadata": {},
   "source": [
    "## settings"
   ]
  },
  {
   "cell_type": "code",
   "execution_count": 2,
   "metadata": {},
   "outputs": [],
   "source": [
    "filenames = [\n",
    "    '/Users/ygene.lee/Desktop/pdf_raw/회계학 문제집_신은미.pdf',\n",
    "    '/Users/ygene.lee/Desktop/pdf_raw/객관식민법_이찬석.pdf',\n",
    "    '/Users/ygene.lee/Desktop/pdf_raw/객관식 경제학_미시편(2판)_함경백.pdf',\n",
    "    '/Users/ygene.lee/Desktop/pdf_raw/관계법규객관식_이상곤.pdf',\n",
    "]\n",
    "intervals = [\n",
    "    [(1,371),(372,508),(510,669)],\n",
    "    [(1,222),(224,428)],\n",
    "    [(1,318),(319,579),(580,745)],\n",
    "    [(1,168),(170,229),(230,292),(294,365),(366,422),(424,489),(490,546),(548,630)],\n",
    "]\n",
    "start_pages = [[s for (s, e) in i] for i in intervals]\n",
    "\n",
    "save_path = '/Users/ygene.lee/Desktop/pdf_split'\n",
    "os.makedirs(save_path, exist_ok=True)"
   ]
  },
  {
   "cell_type": "markdown",
   "metadata": {},
   "source": [
    "## split pdf"
   ]
  },
  {
   "cell_type": "code",
   "execution_count": 3,
   "metadata": {},
   "outputs": [
    {
     "name": "stdout",
     "output_type": "stream",
     "text": [
      "file name: 회계학 문제집_신은미_1.pdf, start page: 1\n",
      "file name: 회계학 문제집_신은미_2.pdf, start page: 372\n",
      "file name: 회계학 문제집_신은미_3.pdf, start page: 510\n",
      "file name: 객관식민법_이찬석_1.pdf, start page: 1\n",
      "file name: 객관식민법_이찬석_2.pdf, start page: 224\n",
      "file name: 객관식 경제학_미시편(2판)_함경백_1.pdf, start page: 1\n",
      "file name: 객관식 경제학_미시편(2판)_함경백_2.pdf, start page: 319\n",
      "file name: 객관식 경제학_미시편(2판)_함경백_3.pdf, start page: 580\n",
      "file name: 관계법규객관식_이상곤_1.pdf, start page: 1\n",
      "file name: 관계법규객관식_이상곤_2.pdf, start page: 170\n",
      "file name: 관계법규객관식_이상곤_3.pdf, start page: 230\n",
      "file name: 관계법규객관식_이상곤_4.pdf, start page: 294\n",
      "file name: 관계법규객관식_이상곤_5.pdf, start page: 366\n",
      "file name: 관계법규객관식_이상곤_6.pdf, start page: 424\n",
      "file name: 관계법규객관식_이상곤_7.pdf, start page: 490\n",
      "file name: 관계법규객관식_이상곤_8.pdf, start page: 548\n"
     ]
    }
   ],
   "source": [
    "for i, f in enumerate(filenames):\n",
    "    \n",
    "    name, ext = f.split('/')[-1].split('.')\n",
    "    starts = start_pages[i]\n",
    "    \n",
    "    pdf = PdfReader(f)\n",
    "    file_num_fmt = '{' + ':0{}d'.format(len(str(len(starts)))) + '}'\n",
    "\n",
    "    first = True\n",
    "    for page_num, page in enumerate(pdf.pages, 1):\n",
    "        if page_num in starts:\n",
    "            if first:\n",
    "                writer = PdfWriter()\n",
    "                first = False\n",
    "                file_num = 1\n",
    "                save_name = '{}_{}.{}'.format(name, file_num_fmt.format(file_num), ext)\n",
    "                print('file name: {}, start page: {}'.format(save_name, page_num))\n",
    "            else:                \n",
    "                # save previous file\n",
    "                writer.write(os.path.join(save_path, save_name))                \n",
    "                # open new writer\n",
    "                writer = PdfWriter()\n",
    "                file_num += 1\n",
    "                save_name = '{}_{}.{}'.format(name, file_num_fmt.format(file_num), ext)\n",
    "                print('file name: {}, start page: {}'.format(save_name, page_num))\n",
    "                \n",
    "        writer.addpages([page])\n",
    "        \n",
    "    # save last file\n",
    "    writer.write(os.path.join(save_path, save_name))                "
   ]
  },
  {
   "cell_type": "markdown",
   "metadata": {},
   "source": [
    "## file sizes"
   ]
  },
  {
   "cell_type": "code",
   "execution_count": 4,
   "metadata": {},
   "outputs": [],
   "source": [
    "raw_path = '/Users/ygene.lee/Desktop/pdf_raw/'\n",
    "split_path = '/Users/ygene.lee/Desktop/pdf_split/'\n",
    "\n",
    "raw_files = os.listdir(raw_path)\n",
    "split_files = os.listdir(split_path)\n",
    "\n",
    "raw_sizes = []\n",
    "for f in raw_files:\n",
    "    raw_sizes.append(os.path.getsize(os.path.join(raw_path, f)) / 10**6)\n",
    "\n",
    "split_sizes = []\n",
    "for f in split_files:\n",
    "    split_sizes.append(os.path.getsize(os.path.join(split_path, f)) / 10**6)"
   ]
  },
  {
   "cell_type": "code",
   "execution_count": 5,
   "metadata": {},
   "outputs": [],
   "source": [
    "split_data = pd.DataFrame()\n",
    "split_data['file_name'] = split_files\n",
    "split_data['size_mb'] = split_sizes\n",
    "\n",
    "raw_data = pd.DataFrame()\n",
    "raw_data['file_name'] = raw_files\n",
    "raw_data['size_mb'] = raw_sizes"
   ]
  },
  {
   "cell_type": "code",
   "execution_count": 6,
   "metadata": {},
   "outputs": [],
   "source": [
    "split_data['base_name'] = split_data.file_name.apply(lambda x: '_'.join(x[:-4].split('_')[:-1]))\n",
    "raw_data['base_name'] = raw_data.file_name.apply(lambda x: x[:-4])"
   ]
  },
  {
   "cell_type": "code",
   "execution_count": 7,
   "metadata": {},
   "outputs": [
    {
     "data": {
      "text/html": [
       "<div>\n",
       "<style scoped>\n",
       "    .dataframe tbody tr th:only-of-type {\n",
       "        vertical-align: middle;\n",
       "    }\n",
       "\n",
       "    .dataframe tbody tr th {\n",
       "        vertical-align: top;\n",
       "    }\n",
       "\n",
       "    .dataframe thead th {\n",
       "        text-align: right;\n",
       "    }\n",
       "</style>\n",
       "<table border=\"1\" class=\"dataframe\">\n",
       "  <thead>\n",
       "    <tr style=\"text-align: right;\">\n",
       "      <th></th>\n",
       "      <th>base_name</th>\n",
       "      <th>size_mb</th>\n",
       "    </tr>\n",
       "  </thead>\n",
       "  <tbody>\n",
       "    <tr>\n",
       "      <th>0</th>\n",
       "      <td>.DS</td>\n",
       "      <td>0.006148</td>\n",
       "    </tr>\n",
       "    <tr>\n",
       "      <th>1</th>\n",
       "      <td>객관식 경제학_미시편(2판)_함경백</td>\n",
       "      <td>316.716778</td>\n",
       "    </tr>\n",
       "    <tr>\n",
       "      <th>2</th>\n",
       "      <td>객관식민법_이찬석</td>\n",
       "      <td>225.428205</td>\n",
       "    </tr>\n",
       "    <tr>\n",
       "      <th>3</th>\n",
       "      <td>관계법규객관식_이상곤</td>\n",
       "      <td>276.989970</td>\n",
       "    </tr>\n",
       "    <tr>\n",
       "      <th>4</th>\n",
       "      <td>회계학 문제집_신은미</td>\n",
       "      <td>280.593954</td>\n",
       "    </tr>\n",
       "  </tbody>\n",
       "</table>\n",
       "</div>"
      ],
      "text/plain": [
       "             base_name     size_mb\n",
       "0                  .DS    0.006148\n",
       "1  객관식 경제학_미시편(2판)_함경백  316.716778\n",
       "2            객관식민법_이찬석  225.428205\n",
       "3          관계법규객관식_이상곤  276.989970\n",
       "4          회계학 문제집_신은미  280.593954"
      ]
     },
     "execution_count": 7,
     "metadata": {},
     "output_type": "execute_result"
    }
   ],
   "source": [
    "split_data.groupby(['base_name'])['size_mb'].sum().to_frame().reset_index()"
   ]
  },
  {
   "cell_type": "code",
   "execution_count": 8,
   "metadata": {},
   "outputs": [
    {
     "data": {
      "text/html": [
       "<div>\n",
       "<style scoped>\n",
       "    .dataframe tbody tr th:only-of-type {\n",
       "        vertical-align: middle;\n",
       "    }\n",
       "\n",
       "    .dataframe tbody tr th {\n",
       "        vertical-align: top;\n",
       "    }\n",
       "\n",
       "    .dataframe thead th {\n",
       "        text-align: right;\n",
       "    }\n",
       "</style>\n",
       "<table border=\"1\" class=\"dataframe\">\n",
       "  <thead>\n",
       "    <tr style=\"text-align: right;\">\n",
       "      <th></th>\n",
       "      <th>base_name</th>\n",
       "      <th>size_mb</th>\n",
       "    </tr>\n",
       "  </thead>\n",
       "  <tbody>\n",
       "    <tr>\n",
       "      <th>0</th>\n",
       "      <td>.DS_S</td>\n",
       "      <td>0.006148</td>\n",
       "    </tr>\n",
       "    <tr>\n",
       "      <th>3</th>\n",
       "      <td>객관식 경제학_미시편(2판)_함경백</td>\n",
       "      <td>316.931209</td>\n",
       "    </tr>\n",
       "    <tr>\n",
       "      <th>4</th>\n",
       "      <td>객관식민법_이찬석</td>\n",
       "      <td>225.550961</td>\n",
       "    </tr>\n",
       "    <tr>\n",
       "      <th>1</th>\n",
       "      <td>관계법규객관식_이상곤</td>\n",
       "      <td>277.171067</td>\n",
       "    </tr>\n",
       "    <tr>\n",
       "      <th>2</th>\n",
       "      <td>회계학 문제집_신은미</td>\n",
       "      <td>280.786773</td>\n",
       "    </tr>\n",
       "  </tbody>\n",
       "</table>\n",
       "</div>"
      ],
      "text/plain": [
       "             base_name     size_mb\n",
       "0                .DS_S    0.006148\n",
       "3  객관식 경제학_미시편(2판)_함경백  316.931209\n",
       "4            객관식민법_이찬석  225.550961\n",
       "1          관계법규객관식_이상곤  277.171067\n",
       "2          회계학 문제집_신은미  280.786773"
      ]
     },
     "execution_count": 8,
     "metadata": {},
     "output_type": "execute_result"
    }
   ],
   "source": [
    "raw_data[['base_name', 'size_mb']].sort_values('base_name')"
   ]
  },
  {
   "cell_type": "code",
   "execution_count": null,
   "metadata": {},
   "outputs": [],
   "source": []
  },
  {
   "cell_type": "code",
   "execution_count": null,
   "metadata": {},
   "outputs": [],
   "source": []
  }
 ],
 "metadata": {
  "kernelspec": {
   "display_name": "Python 3",
   "language": "python",
   "name": "python3"
  },
  "language_info": {
   "codemirror_mode": {
    "name": "ipython",
    "version": 3
   },
   "file_extension": ".py",
   "mimetype": "text/x-python",
   "name": "python",
   "nbconvert_exporter": "python",
   "pygments_lexer": "ipython3",
   "version": "3.7.6"
  }
 },
 "nbformat": 4,
 "nbformat_minor": 2
}
